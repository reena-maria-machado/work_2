{
 "cells": [
  {
   "cell_type": "code",
   "execution_count": 14,
   "metadata": {},
   "outputs": [
    {
     "name": "stdout",
     "output_type": "stream",
     "text": [
      "enter first test marks : 25\n",
      "enter second test marks : 25\n",
      "enter third test marks : 30\n",
      "best of 2 :  27.5\n"
     ]
    }
   ],
   "source": [
    "t1=input('enter first test marks : ')\n",
    "t2=input('enter second test marks : ')\n",
    "t3=input('enter third test marks : ')\n",
    "least=min(t1,t2,t3)\n",
    "m1=float(t1)\n",
    "m2=float(t2)\n",
    "m3=float(t3)\n",
    "le=float(least)\n",
    "add=(m1+m2+m3)-le\n",
    "avg=add/2\n",
    "print('best of 2 : ',avg)"
   ]
  },
  {
   "cell_type": "code",
   "execution_count": 23,
   "metadata": {},
   "outputs": [
    {
     "name": "stdout",
     "output_type": "stream",
     "text": [
      "10\n",
      "9\n",
      "8\n",
      "7\n",
      "6\n",
      "5\n",
      "4\n",
      "3\n",
      "2\n",
      "1\n",
      "done!\n"
     ]
    }
   ],
   "source": [
    "n=10\n",
    "while True:\n",
    "    print(n)\n",
    "    n=n-1\n",
    "    if n==0:\n",
    "        break\n",
    "print('done!')"
   ]
  },
  {
   "cell_type": "code",
   "execution_count": 15,
   "metadata": {},
   "outputs": [
    {
     "name": "stdout",
     "output_type": "stream",
     "text": [
      "enter 1st value : 20\n",
      "enter 2nd value : 0\n",
      "divide by zero\n"
     ]
    }
   ],
   "source": [
    "val1=input('enter 1st value : ')\n",
    "val2=input('enter 2nd value : ')\n",
    "v1=float(val1)\n",
    "v2=float(val2)\n",
    "def solve(v1,v2):\n",
    "    rem=v1%v2\n",
    "    quo=v1//v2\n",
    "    return rem,quo\n",
    "try:\n",
    "    a,b=solve(v1,v2)\n",
    "    print('reminder=',a,'quotient=',b)\n",
    "except:\n",
    "    print('divide by zero')"
   ]
  },
  {
   "cell_type": "code",
   "execution_count": 18,
   "metadata": {},
   "outputs": [
    {
     "name": "stdout",
     "output_type": "stream",
     "text": [
      "enter the farenheat 79\n",
      "celcious= 26.11111111111111\n"
     ]
    }
   ],
   "source": [
    "inp=input('enter the farenheat ')\n",
    "try:\n",
    "    far=float(inp)\n",
    "    cel=(far-32.0)*5.0/9.0\n",
    "    print('celcious=',cel)\n",
    "except:\n",
    "    print('enter valid ip')"
   ]
  },
  {
   "cell_type": "code",
   "execution_count": 19,
   "metadata": {},
   "outputs": [
    {
     "name": "stdout",
     "output_type": "stream",
     "text": [
      "enter the celcious 22.22\n",
      "farenheat= 71.996\n"
     ]
    }
   ],
   "source": [
    "inp=input('enter the celcious ')\n",
    "try:\n",
    "    cel=float(inp)\n",
    "    far=(cel*9.0/5.0)+32.0\n",
    "    print('farenheat=',far)\n",
    "except:\n",
    "    print('enter valid ip')"
   ]
  },
  {
   "cell_type": "code",
   "execution_count": 21,
   "metadata": {},
   "outputs": [
    {
     "name": "stdout",
     "output_type": "stream",
     "text": [
      "enter datahi reena\n"
     ]
    },
    {
     "ename": "TypeError",
     "evalue": "'int' object is not iterable",
     "output_type": "error",
     "traceback": [
      "\u001b[1;31m---------------------------------------------------------------------------\u001b[0m",
      "\u001b[1;31mTypeError\u001b[0m                                 Traceback (most recent call last)",
      "\u001b[1;32m<ipython-input-21-1a232d22786a>\u001b[0m in \u001b[0;36m<module>\u001b[1;34m()\u001b[0m\n\u001b[0;32m      2\u001b[0m \u001b[0mwords\u001b[0m\u001b[1;33m=\u001b[0m\u001b[0minp\u001b[0m\u001b[1;33m.\u001b[0m\u001b[0msplit\u001b[0m\u001b[1;33m(\u001b[0m\u001b[1;33m)\u001b[0m\u001b[1;33m\u001b[0m\u001b[0m\n\u001b[0;32m      3\u001b[0m \u001b[1;32mfor\u001b[0m \u001b[0mword\u001b[0m \u001b[1;32min\u001b[0m \u001b[0mwords\u001b[0m\u001b[1;33m:\u001b[0m\u001b[1;33m\u001b[0m\u001b[0m\n\u001b[1;32m----> 4\u001b[1;33m     \u001b[0mlx\u001b[0m\u001b[1;33m=\u001b[0m\u001b[0mmax\u001b[0m\u001b[1;33m(\u001b[0m\u001b[0mlen\u001b[0m\u001b[1;33m(\u001b[0m\u001b[0mword\u001b[0m\u001b[1;33m)\u001b[0m\u001b[1;33m)\u001b[0m\u001b[1;33m\u001b[0m\u001b[0m\n\u001b[0m\u001b[0;32m      5\u001b[0m     \u001b[0mprint\u001b[0m\u001b[1;33m(\u001b[0m\u001b[0mlx\u001b[0m\u001b[1;33m)\u001b[0m\u001b[1;33m\u001b[0m\u001b[0m\n",
      "\u001b[1;31mTypeError\u001b[0m: 'int' object is not iterable"
     ]
    }
   ],
   "source": [
    "inp=input('enter data')\n",
    "words=inp.split()\n",
    "for word in words:\n",
    "    lx=max(len(word))\n",
    "    print(lx)"
   ]
  },
  {
   "cell_type": "code",
   "execution_count": null,
   "metadata": {},
   "outputs": [],
   "source": []
  }
 ],
 "metadata": {
  "kernelspec": {
   "display_name": "Python 3",
   "language": "python",
   "name": "python3"
  },
  "language_info": {
   "codemirror_mode": {
    "name": "ipython",
    "version": 3
   },
   "file_extension": ".py",
   "mimetype": "text/x-python",
   "name": "python",
   "nbconvert_exporter": "python",
   "pygments_lexer": "ipython3",
   "version": "3.6.5"
  }
 },
 "nbformat": 4,
 "nbformat_minor": 2
}
